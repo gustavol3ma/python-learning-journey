{
  "nbformat": 4,
  "nbformat_minor": 0,
  "metadata": {
    "colab": {
      "provenance": [],
      "authorship_tag": "ABX9TyNJgr+yV2SDWcKtHo1PbR1K",
      "include_colab_link": true
    },
    "kernelspec": {
      "name": "python3",
      "display_name": "Python 3"
    },
    "language_info": {
      "name": "python"
    }
  },
  "cells": [
    {
      "cell_type": "markdown",
      "metadata": {
        "id": "view-in-github",
        "colab_type": "text"
      },
      "source": [
        "<a href=\"https://colab.research.google.com/github/gustavol3ma/python-learning-journey/blob/main/pythonIAA.ipynb\" target=\"_parent\"><img src=\"https://colab.research.google.com/assets/colab-badge.svg\" alt=\"Open In Colab\"/></a>"
      ]
    },
    {
      "cell_type": "markdown",
      "source": [
        "**Python: Inteligência Artificial Aplicada**"
      ],
      "metadata": {
        "id": "b57mZG0mwekW"
      }
    },
    {
      "cell_type": "markdown",
      "source": [
        "**Relembrando**"
      ],
      "metadata": {
        "id": "XHK2Z0vhxBBO"
      }
    },
    {
      "cell_type": "markdown",
      "source": [
        "Treino 01"
      ],
      "metadata": {
        "id": "px3bc78Y-cty"
      }
    },
    {
      "cell_type": "code",
      "execution_count": 1,
      "metadata": {
        "colab": {
          "base_uri": "https://localhost:8080/"
        },
        "id": "ToADEyUAv3X0",
        "outputId": "1fba9afc-acb4-436f-ec34-73670df5e810"
      },
      "outputs": [
        {
          "output_type": "stream",
          "name": "stdout",
          "text": [
            "Hello world\n"
          ]
        }
      ],
      "source": [
        "print('Hello world')"
      ]
    },
    {
      "cell_type": "code",
      "source": [
        "produto1 = 1\n",
        "produto2 = 4\n",
        "produto3 = []\n",
        "for i in range(10):\n",
        "  produto3.append(i)\n",
        "print(produto3)"
      ],
      "metadata": {
        "colab": {
          "base_uri": "https://localhost:8080/"
        },
        "id": "FA33-piOy_5y",
        "outputId": "daa0a331-97db-4c44-c589-4020f46eb319"
      },
      "execution_count": 2,
      "outputs": [
        {
          "output_type": "stream",
          "name": "stdout",
          "text": [
            "[0, 1, 2, 3, 4, 5, 6, 7, 8, 9]\n"
          ]
        }
      ]
    },
    {
      "cell_type": "code",
      "source": [
        "lista_produto = []\n",
        "lista_valores = [12,34,555,645,767,888,54,3432,4,5565,667,4,3333,211]"
      ],
      "metadata": {
        "id": "Du3GcIYj1dJN"
      },
      "execution_count": 3,
      "outputs": []
    },
    {
      "cell_type": "code",
      "source": [
        "tamanho = len(lista_valores)\n",
        "print(tamanho)"
      ],
      "metadata": {
        "colab": {
          "base_uri": "https://localhost:8080/"
        },
        "id": "HPCg0xRI8sn8",
        "outputId": "6cd46b7a-cc8f-40ab-97f0-a82afcdaa3f0"
      },
      "execution_count": 4,
      "outputs": [
        {
          "output_type": "stream",
          "name": "stdout",
          "text": [
            "14\n"
          ]
        }
      ]
    },
    {
      "cell_type": "code",
      "source": [
        "quantidade_produtos = 14"
      ],
      "metadata": {
        "id": "rXfLRMPG88Ra"
      },
      "execution_count": 5,
      "outputs": []
    },
    {
      "cell_type": "code",
      "source": [
        "for i in range(1,quantidade_produtos+1):\n",
        "  nome_produto = f'Produto {i}'\n",
        "  lista_produto.append(nome_produto)\n"
      ],
      "metadata": {
        "id": "h4Sdn5Wk8zDc"
      },
      "execution_count": 6,
      "outputs": []
    },
    {
      "cell_type": "code",
      "source": [
        "map_preco = dict(zip(lista_produto,lista_valores))\n",
        "print(map_preco)"
      ],
      "metadata": {
        "colab": {
          "base_uri": "https://localhost:8080/"
        },
        "id": "MueJv81U20jF",
        "outputId": "3c4ad583-89af-4112-f31d-d2df122a9631"
      },
      "execution_count": 7,
      "outputs": [
        {
          "output_type": "stream",
          "name": "stdout",
          "text": [
            "{'Produto 1': 12, 'Produto 2': 34, 'Produto 3': 555, 'Produto 4': 645, 'Produto 5': 767, 'Produto 6': 888, 'Produto 7': 54, 'Produto 8': 3432, 'Produto 9': 4, 'Produto 10': 5565, 'Produto 11': 667, 'Produto 12': 4, 'Produto 13': 3333, 'Produto 14': 211}\n"
          ]
        }
      ]
    },
    {
      "cell_type": "markdown",
      "source": [
        "Treino 02 - Operações"
      ],
      "metadata": {
        "id": "zTl3s8Rl-fqj"
      }
    },
    {
      "cell_type": "code",
      "source": [
        "Amigos = 5\n",
        "aluguel = 1000\n",
        "supermercado = 500\n",
        "carro = 400"
      ],
      "metadata": {
        "id": "xegBHVxL-hEk"
      },
      "execution_count": 8,
      "outputs": []
    },
    {
      "cell_type": "code",
      "source": [
        "total = aluguel+supermercado+carro\n",
        "print(total)"
      ],
      "metadata": {
        "colab": {
          "base_uri": "https://localhost:8080/"
        },
        "id": "OK4Qo4mL-yhJ",
        "outputId": "524915b8-7d82-4cee-d3f5-5cb56f3efa56"
      },
      "execution_count": 9,
      "outputs": [
        {
          "output_type": "stream",
          "name": "stdout",
          "text": [
            "1900\n"
          ]
        }
      ]
    },
    {
      "cell_type": "code",
      "source": [
        "aluguel = 900\n",
        "total = aluguel+supermercado+carro"
      ],
      "metadata": {
        "id": "jDWJtHbJ-8CM"
      },
      "execution_count": 10,
      "outputs": []
    },
    {
      "cell_type": "code",
      "source": [
        "print(total)"
      ],
      "metadata": {
        "colab": {
          "base_uri": "https://localhost:8080/"
        },
        "id": "nkjHTjk5_Cc1",
        "outputId": "77613793-e821-440b-ef5e-eab99fcee6d5"
      },
      "execution_count": 11,
      "outputs": [
        {
          "output_type": "stream",
          "name": "stdout",
          "text": [
            "1800\n"
          ]
        }
      ]
    },
    {
      "cell_type": "code",
      "source": [
        "aluguel = aluguel - 100\n",
        "total = aluguel+supermercado+carro"
      ],
      "metadata": {
        "id": "jEzfP8bn_T8N"
      },
      "execution_count": 12,
      "outputs": []
    },
    {
      "cell_type": "code",
      "source": [
        "Amigos = 6\n",
        "aluguel = 1000\n",
        "supermercado = 500\n",
        "carro = 400"
      ],
      "metadata": {
        "id": "hD11SGHg_vt0"
      },
      "execution_count": 13,
      "outputs": []
    },
    {
      "cell_type": "code",
      "source": [
        "print(carro*2)\n",
        "total_carro = carro*2"
      ],
      "metadata": {
        "colab": {
          "base_uri": "https://localhost:8080/"
        },
        "id": "rk3aprjC_zbq",
        "outputId": "89cc67e4-d79e-4675-a051-29fe795a8c6b"
      },
      "execution_count": 14,
      "outputs": [
        {
          "output_type": "stream",
          "name": "stdout",
          "text": [
            "800\n"
          ]
        }
      ]
    },
    {
      "cell_type": "code",
      "source": [
        "total = aluguel+supermercado+total_carro\n",
        "print(total)"
      ],
      "metadata": {
        "colab": {
          "base_uri": "https://localhost:8080/"
        },
        "id": "vybnEQ8K_5Ni",
        "outputId": "c3a9196a-c626-42ff-f753-337ae4b32992"
      },
      "execution_count": 15,
      "outputs": [
        {
          "output_type": "stream",
          "name": "stdout",
          "text": [
            "2300\n"
          ]
        }
      ]
    },
    {
      "cell_type": "code",
      "source": [
        "total_pessoa = total/Amigos\n",
        "print(total_pessoa)"
      ],
      "metadata": {
        "colab": {
          "base_uri": "https://localhost:8080/"
        },
        "id": "ILUw8GnUAaTK",
        "outputId": "cdbbfbbb-993b-44c8-c212-23aaaf646a6a"
      },
      "execution_count": 16,
      "outputs": [
        {
          "output_type": "stream",
          "name": "stdout",
          "text": [
            "383.3333333333333\n"
          ]
        }
      ]
    },
    {
      "cell_type": "markdown",
      "source": [
        "Treino 03 - Manipulando Strings em Python"
      ],
      "metadata": {
        "id": "ISqTJhRbByrs"
      }
    },
    {
      "cell_type": "code",
      "source": [
        "texto = '   GustAvo Lima SILva   '"
      ],
      "metadata": {
        "id": "7YlAjyZoB3DZ"
      },
      "execution_count": 23,
      "outputs": []
    },
    {
      "cell_type": "code",
      "source": [
        "print(texto)"
      ],
      "metadata": {
        "colab": {
          "base_uri": "https://localhost:8080/"
        },
        "id": "dhXX9vusCD9C",
        "outputId": "90a9c18d-65f5-4e9a-aaed-11d3892099d1"
      },
      "execution_count": 18,
      "outputs": [
        {
          "output_type": "stream",
          "name": "stdout",
          "text": [
            "   GustAvo Lima  SILva   \n"
          ]
        }
      ]
    },
    {
      "cell_type": "code",
      "source": [
        "texto.lower()"
      ],
      "metadata": {
        "colab": {
          "base_uri": "https://localhost:8080/",
          "height": 36
        },
        "id": "AxVVehXpCGw6",
        "outputId": "0de4c88a-33b2-4c9b-89ce-886cdbc6ce44"
      },
      "execution_count": 19,
      "outputs": [
        {
          "output_type": "execute_result",
          "data": {
            "text/plain": [
              "'   gustavo lima  silva   '"
            ],
            "application/vnd.google.colaboratory.intrinsic+json": {
              "type": "string"
            }
          },
          "metadata": {},
          "execution_count": 19
        }
      ]
    },
    {
      "cell_type": "code",
      "source": [
        "texto.upper()"
      ],
      "metadata": {
        "colab": {
          "base_uri": "https://localhost:8080/",
          "height": 36
        },
        "id": "7yHoPaRMCVCc",
        "outputId": "935fb24c-d4b0-43eb-d43a-1eb694496e1d"
      },
      "execution_count": 20,
      "outputs": [
        {
          "output_type": "execute_result",
          "data": {
            "text/plain": [
              "'   GUSTAVO LIMA  SILVA   '"
            ],
            "application/vnd.google.colaboratory.intrinsic+json": {
              "type": "string"
            }
          },
          "metadata": {},
          "execution_count": 20
        }
      ]
    },
    {
      "cell_type": "code",
      "source": [
        "texto.strip()"
      ],
      "metadata": {
        "colab": {
          "base_uri": "https://localhost:8080/",
          "height": 36
        },
        "id": "IyxWNrOxCXyL",
        "outputId": "91eccc42-73ae-4aff-e33b-67a94328ec80"
      },
      "execution_count": 21,
      "outputs": [
        {
          "output_type": "execute_result",
          "data": {
            "text/plain": [
              "'GustAvo Lima  SILva'"
            ],
            "application/vnd.google.colaboratory.intrinsic+json": {
              "type": "string"
            }
          },
          "metadata": {},
          "execution_count": 21
        }
      ]
    },
    {
      "cell_type": "code",
      "source": [
        "texto.replace(\"  \",\"\").upper().strip()"
      ],
      "metadata": {
        "colab": {
          "base_uri": "https://localhost:8080/",
          "height": 36
        },
        "id": "4Wg93Kj7CpQa",
        "outputId": "934d8f62-ddda-4df5-959b-b3bf1e797deb"
      },
      "execution_count": 26,
      "outputs": [
        {
          "output_type": "execute_result",
          "data": {
            "text/plain": [
              "'GUSTAVO LIMA SILVA'"
            ],
            "application/vnd.google.colaboratory.intrinsic+json": {
              "type": "string"
            }
          },
          "metadata": {},
          "execution_count": 26
        }
      ]
    }
  ]
}