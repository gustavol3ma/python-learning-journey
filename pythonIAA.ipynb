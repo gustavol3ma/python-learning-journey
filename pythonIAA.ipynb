{
  "nbformat": 4,
  "nbformat_minor": 0,
  "metadata": {
    "colab": {
      "provenance": [],
      "authorship_tag": "ABX9TyNLVSuNLxArpebkOeAj+DEf",
      "include_colab_link": true
    },
    "kernelspec": {
      "name": "python3",
      "display_name": "Python 3"
    },
    "language_info": {
      "name": "python"
    }
  },
  "cells": [
    {
      "cell_type": "markdown",
      "metadata": {
        "id": "view-in-github",
        "colab_type": "text"
      },
      "source": [
        "<a href=\"https://colab.research.google.com/github/gustavol3ma/python-learning-journey/blob/main/pythonIAA.ipynb\" target=\"_parent\"><img src=\"https://colab.research.google.com/assets/colab-badge.svg\" alt=\"Open In Colab\"/></a>"
      ]
    },
    {
      "cell_type": "markdown",
      "source": [
        "**Python: Inteligência Artificial Aplicada**\n",
        "NÃO COMPARTILHAR NO GITHUB"
      ],
      "metadata": {
        "id": "b57mZG0mwekW"
      }
    },
    {
      "cell_type": "markdown",
      "source": [
        "**Relembrando**"
      ],
      "metadata": {
        "id": "XHK2Z0vhxBBO"
      }
    },
    {
      "cell_type": "markdown",
      "source": [
        "Treino 01"
      ],
      "metadata": {
        "id": "px3bc78Y-cty"
      }
    },
    {
      "cell_type": "code",
      "execution_count": 1,
      "metadata": {
        "colab": {
          "base_uri": "https://localhost:8080/"
        },
        "id": "ToADEyUAv3X0",
        "outputId": "d01e9c88-da23-4430-bc17-fcc4189d57c2"
      },
      "outputs": [
        {
          "output_type": "stream",
          "name": "stdout",
          "text": [
            "Hello world\n"
          ]
        }
      ],
      "source": [
        "print('Hello world')"
      ]
    },
    {
      "cell_type": "code",
      "source": [
        "produto1 = 1\n",
        "produto2 = 4\n",
        "produto3 = []\n",
        "for i in range(10):\n",
        "  produto3.append(i)\n",
        "print(produto3)"
      ],
      "metadata": {
        "colab": {
          "base_uri": "https://localhost:8080/"
        },
        "id": "FA33-piOy_5y",
        "outputId": "c7edad65-fa17-41a2-a4a2-b3808015b78b"
      },
      "execution_count": 2,
      "outputs": [
        {
          "output_type": "stream",
          "name": "stdout",
          "text": [
            "[0, 1, 2, 3, 4, 5, 6, 7, 8, 9]\n"
          ]
        }
      ]
    },
    {
      "cell_type": "code",
      "source": [
        "lista_produto = []\n",
        "lista_valores = [12,34,555,645,767,888,54,3432,4,5565,667,4,3333,211]"
      ],
      "metadata": {
        "id": "Du3GcIYj1dJN"
      },
      "execution_count": 3,
      "outputs": []
    },
    {
      "cell_type": "code",
      "source": [
        "tamanho = len(lista_valores)\n",
        "print(tamanho)"
      ],
      "metadata": {
        "colab": {
          "base_uri": "https://localhost:8080/"
        },
        "id": "HPCg0xRI8sn8",
        "outputId": "97f7c209-cf8e-42a9-b21f-e586324dd8dc"
      },
      "execution_count": 4,
      "outputs": [
        {
          "output_type": "stream",
          "name": "stdout",
          "text": [
            "14\n"
          ]
        }
      ]
    },
    {
      "cell_type": "code",
      "source": [
        "quantidade_produtos = 14"
      ],
      "metadata": {
        "id": "rXfLRMPG88Ra"
      },
      "execution_count": 5,
      "outputs": []
    },
    {
      "cell_type": "code",
      "source": [
        "for i in range(1,quantidade_produtos+1):\n",
        "  nome_produto = f'Produto {i}'\n",
        "  lista_produto.append(nome_produto)\n"
      ],
      "metadata": {
        "id": "h4Sdn5Wk8zDc"
      },
      "execution_count": 6,
      "outputs": []
    },
    {
      "cell_type": "code",
      "source": [
        "map_preco = dict(zip(lista_produto,lista_valores))\n",
        "print(map_preco)"
      ],
      "metadata": {
        "colab": {
          "base_uri": "https://localhost:8080/"
        },
        "id": "MueJv81U20jF",
        "outputId": "345638a4-66b4-4fe2-85d2-2ae8ef40b8a9"
      },
      "execution_count": 7,
      "outputs": [
        {
          "output_type": "stream",
          "name": "stdout",
          "text": [
            "{'Produto 1': 12, 'Produto 2': 34, 'Produto 3': 555, 'Produto 4': 645, 'Produto 5': 767, 'Produto 6': 888, 'Produto 7': 54, 'Produto 8': 3432, 'Produto 9': 4, 'Produto 10': 5565, 'Produto 11': 667, 'Produto 12': 4, 'Produto 13': 3333, 'Produto 14': 211}\n"
          ]
        }
      ]
    },
    {
      "cell_type": "markdown",
      "source": [
        "Treino 02 - Operações"
      ],
      "metadata": {
        "id": "zTl3s8Rl-fqj"
      }
    },
    {
      "cell_type": "code",
      "source": [
        "Amigos = 5\n",
        "aluguel = 1000\n",
        "supermercado = 500\n",
        "carro = 400"
      ],
      "metadata": {
        "id": "xegBHVxL-hEk"
      },
      "execution_count": 8,
      "outputs": []
    },
    {
      "cell_type": "code",
      "source": [
        "total = aluguel+supermercado+carro\n",
        "print(total)"
      ],
      "metadata": {
        "colab": {
          "base_uri": "https://localhost:8080/"
        },
        "id": "OK4Qo4mL-yhJ",
        "outputId": "eeaf0c32-67dc-4270-971b-8c673881a60c"
      },
      "execution_count": 9,
      "outputs": [
        {
          "output_type": "stream",
          "name": "stdout",
          "text": [
            "1900\n"
          ]
        }
      ]
    },
    {
      "cell_type": "code",
      "source": [
        "aluguel = 900\n",
        "total = aluguel+supermercado+carro"
      ],
      "metadata": {
        "id": "jDWJtHbJ-8CM"
      },
      "execution_count": 10,
      "outputs": []
    },
    {
      "cell_type": "code",
      "source": [
        "print(total)"
      ],
      "metadata": {
        "colab": {
          "base_uri": "https://localhost:8080/"
        },
        "id": "nkjHTjk5_Cc1",
        "outputId": "9408d139-7d05-4ff6-beb0-6b53a9a62120"
      },
      "execution_count": 11,
      "outputs": [
        {
          "output_type": "stream",
          "name": "stdout",
          "text": [
            "1800\n"
          ]
        }
      ]
    },
    {
      "cell_type": "code",
      "source": [
        "aluguel = aluguel - 100\n",
        "total = aluguel+supermercado+carro"
      ],
      "metadata": {
        "id": "jEzfP8bn_T8N"
      },
      "execution_count": 12,
      "outputs": []
    },
    {
      "cell_type": "code",
      "source": [
        "Amigos = 6\n",
        "aluguel = 1000\n",
        "supermercado = 500\n",
        "carro = 400"
      ],
      "metadata": {
        "id": "hD11SGHg_vt0"
      },
      "execution_count": 13,
      "outputs": []
    },
    {
      "cell_type": "code",
      "source": [
        "print(carro*2)\n",
        "total_carro = carro*2"
      ],
      "metadata": {
        "colab": {
          "base_uri": "https://localhost:8080/"
        },
        "id": "rk3aprjC_zbq",
        "outputId": "defe18d3-133b-4c34-d2b2-0745a435f667"
      },
      "execution_count": 14,
      "outputs": [
        {
          "output_type": "stream",
          "name": "stdout",
          "text": [
            "800\n"
          ]
        }
      ]
    },
    {
      "cell_type": "code",
      "source": [
        "total = aluguel+supermercado+total_carro\n",
        "print(total)"
      ],
      "metadata": {
        "colab": {
          "base_uri": "https://localhost:8080/"
        },
        "id": "vybnEQ8K_5Ni",
        "outputId": "b3e46795-565d-41d4-f370-7bca3ddf32a1"
      },
      "execution_count": 15,
      "outputs": [
        {
          "output_type": "stream",
          "name": "stdout",
          "text": [
            "2300\n"
          ]
        }
      ]
    },
    {
      "cell_type": "code",
      "source": [
        "total_pessoa = total/Amigos\n",
        "print(total_pessoa)"
      ],
      "metadata": {
        "colab": {
          "base_uri": "https://localhost:8080/"
        },
        "id": "ILUw8GnUAaTK",
        "outputId": "3340861a-082d-48a9-b4c4-7d02fc656edf"
      },
      "execution_count": 16,
      "outputs": [
        {
          "output_type": "stream",
          "name": "stdout",
          "text": [
            "383.3333333333333\n"
          ]
        }
      ]
    },
    {
      "cell_type": "markdown",
      "source": [
        "Treino 03 - Manipulando Strings em Python"
      ],
      "metadata": {
        "id": "ISqTJhRbByrs"
      }
    },
    {
      "cell_type": "code",
      "source": [
        "texto = '   GustAvo Lima SILva   '"
      ],
      "metadata": {
        "id": "7YlAjyZoB3DZ"
      },
      "execution_count": 17,
      "outputs": []
    },
    {
      "cell_type": "code",
      "source": [
        "print(texto)"
      ],
      "metadata": {
        "colab": {
          "base_uri": "https://localhost:8080/"
        },
        "id": "dhXX9vusCD9C",
        "outputId": "7beaee53-c045-4086-97f8-8992cb487f79"
      },
      "execution_count": 18,
      "outputs": [
        {
          "output_type": "stream",
          "name": "stdout",
          "text": [
            "   GustAvo Lima SILva   \n"
          ]
        }
      ]
    },
    {
      "cell_type": "code",
      "source": [
        "texto.lower()"
      ],
      "metadata": {
        "colab": {
          "base_uri": "https://localhost:8080/",
          "height": 36
        },
        "id": "AxVVehXpCGw6",
        "outputId": "14643ba9-8c8b-410b-e19d-f304b44e31d1"
      },
      "execution_count": 19,
      "outputs": [
        {
          "output_type": "execute_result",
          "data": {
            "text/plain": [
              "'   gustavo lima silva   '"
            ],
            "application/vnd.google.colaboratory.intrinsic+json": {
              "type": "string"
            }
          },
          "metadata": {},
          "execution_count": 19
        }
      ]
    },
    {
      "cell_type": "code",
      "source": [
        "texto.upper()"
      ],
      "metadata": {
        "colab": {
          "base_uri": "https://localhost:8080/",
          "height": 36
        },
        "id": "7yHoPaRMCVCc",
        "outputId": "b36cb471-6f43-4338-c760-38f7ba76841f"
      },
      "execution_count": 20,
      "outputs": [
        {
          "output_type": "execute_result",
          "data": {
            "text/plain": [
              "'   GUSTAVO LIMA SILVA   '"
            ],
            "application/vnd.google.colaboratory.intrinsic+json": {
              "type": "string"
            }
          },
          "metadata": {},
          "execution_count": 20
        }
      ]
    },
    {
      "cell_type": "code",
      "source": [
        "texto.strip()"
      ],
      "metadata": {
        "colab": {
          "base_uri": "https://localhost:8080/",
          "height": 36
        },
        "id": "IyxWNrOxCXyL",
        "outputId": "d4286e44-6e44-4103-8e08-574274bf8578"
      },
      "execution_count": 21,
      "outputs": [
        {
          "output_type": "execute_result",
          "data": {
            "text/plain": [
              "'GustAvo Lima SILva'"
            ],
            "application/vnd.google.colaboratory.intrinsic+json": {
              "type": "string"
            }
          },
          "metadata": {},
          "execution_count": 21
        }
      ]
    },
    {
      "cell_type": "code",
      "source": [
        "texto.replace(\"  \",\"\").upper().strip()"
      ],
      "metadata": {
        "colab": {
          "base_uri": "https://localhost:8080/",
          "height": 36
        },
        "id": "4Wg93Kj7CpQa",
        "outputId": "c01ce9f4-f89d-4b6f-aa6f-1786d6adaaff"
      },
      "execution_count": 22,
      "outputs": [
        {
          "output_type": "execute_result",
          "data": {
            "text/plain": [
              "'GUSTAVO LIMA SILVA'"
            ],
            "application/vnd.google.colaboratory.intrinsic+json": {
              "type": "string"
            }
          },
          "metadata": {},
          "execution_count": 22
        }
      ]
    },
    {
      "cell_type": "markdown",
      "source": [
        "Recebendo Dados do Usuário com `input` e Formatando Textos com fStrings"
      ],
      "metadata": {
        "id": "Nu_-6bzXlDI6"
      }
    },
    {
      "cell_type": "code",
      "source": [
        "#nome=input('Qual o seu nome?' )\n",
        "#idade = input('Qual a sua idade? ')"
      ],
      "metadata": {
        "id": "dGuWBE3Ak_0N"
      },
      "execution_count": 23,
      "outputs": []
    },
    {
      "cell_type": "code",
      "source": [
        "#type(idade)"
      ],
      "metadata": {
        "id": "AoL39w2plJZ6"
      },
      "execution_count": 24,
      "outputs": []
    },
    {
      "cell_type": "code",
      "source": [
        "#idade=int(idade)\n",
        "#type(idade)"
      ],
      "metadata": {
        "id": "hYRZNs6nlPnT"
      },
      "execution_count": 25,
      "outputs": []
    },
    {
      "cell_type": "markdown",
      "source": [
        "Condicionais\n",
        "\n"
      ],
      "metadata": {
        "id": "dkRwvEhDmK6n"
      }
    },
    {
      "cell_type": "markdown",
      "source": [
        "01 Exemplo - Entrar na Festa\n",
        "\n",
        "\n"
      ],
      "metadata": {
        "id": "OM4gi3NQnt_O"
      }
    },
    {
      "cell_type": "code",
      "source": [
        "\"\"\"\n",
        "nome = input('Qual é o seu nome: ')\n",
        "idade = int(input('Qual é a sua idade: '))\n",
        "\n",
        "if idade >=18:\n",
        "  print(f'{nome}você pode entrar na festa')\n",
        "  print(f'Seja bem vindo(a) {nome}')\n",
        "else:\n",
        "  print(f'{nome} você não pode entrar na festa')\n",
        "\n",
        "\"\"\""
      ],
      "metadata": {
        "colab": {
          "base_uri": "https://localhost:8080/",
          "height": 53
        },
        "id": "RaWzY1FsmMr-",
        "outputId": "de40a016-df4b-44d8-b26a-e73c3f806d81"
      },
      "execution_count": 26,
      "outputs": [
        {
          "output_type": "execute_result",
          "data": {
            "text/plain": [
              "\"\\nnome = input('Qual é o seu nome: ')\\nidade = int(input('Qual é a sua idade: '))\\n\\nif idade >=18:\\n  print(f'{nome}você pode entrar na festa')\\n  print(f'Seja bem vindo(a) {nome}')\\nelse:\\n  print(f'{nome} você não pode entrar na festa')\\n  \\n\""
            ],
            "application/vnd.google.colaboratory.intrinsic+json": {
              "type": "string"
            }
          },
          "metadata": {},
          "execution_count": 26
        }
      ]
    },
    {
      "cell_type": "markdown",
      "source": [
        "02 Exemplo - Situação do aluno"
      ],
      "metadata": {
        "id": "Omkpp8snor-f"
      }
    },
    {
      "cell_type": "code",
      "source": [
        "'''\n",
        "nome = str(input('Informe o nome do aluno: '))\n",
        "n1 = float(input('Informe a primeira nota: '))\n",
        "n2 = float(input('Informe a segunda nota: '))\n",
        "n3 = float(input('Informe a terceira nota: '))\n",
        "notat= n1 + n2 + n3\n",
        "\n",
        "media = notat/3\n",
        "\n",
        "\n",
        "if media >= 7:\n",
        "  print(f'Aluno Aprovado!')\n",
        "if media >= 5 and media < 7:\n",
        "  print(f'Aluno em Recuperação!')\n",
        "else:\n",
        "  print(f'Aluno Reprovado!')\n",
        "\n",
        "'''"
      ],
      "metadata": {
        "colab": {
          "base_uri": "https://localhost:8080/",
          "height": 70
        },
        "id": "sVEmgjLvorwz",
        "outputId": "ebc1fa25-14cc-486d-9fbf-8846797c7295"
      },
      "execution_count": 27,
      "outputs": [
        {
          "output_type": "execute_result",
          "data": {
            "text/plain": [
              "\"\\nnome = str(input('Informe o nome do aluno: '))\\nn1 = float(input('Informe a primeira nota: '))\\nn2 = float(input('Informe a segunda nota: '))\\nn3 = float(input('Informe a terceira nota: '))\\nnotat= n1 + n2 + n3\\n\\nmedia = notat/3\\n\\n\\nif media >= 7:\\n  print(f'Aluno Aprovado!')\\nif media >= 5 and media < 7:\\n  print(f'Aluno em Recuperação!')\\nelse:\\n  print(f'Aluno Reprovado!')\\n  \\n\""
            ],
            "application/vnd.google.colaboratory.intrinsic+json": {
              "type": "string"
            }
          },
          "metadata": {},
          "execution_count": 27
        }
      ]
    },
    {
      "cell_type": "markdown",
      "source": [
        " Aprenda a conectar a IA do Google com Python no Colab"
      ],
      "metadata": {
        "id": "T299kafmq45G"
      }
    },
    {
      "cell_type": "code",
      "source": [
        "import os\n",
        "from google.colab import userdata\n",
        "\n",
        "os.environ['Apredendo_python(IA)'] = userdata.get('Apredendo_python(IA)')\n"
      ],
      "metadata": {
        "id": "eLYxgmqEq6gR"
      },
      "execution_count": 28,
      "outputs": []
    },
    {
      "cell_type": "code",
      "source": [
        "from google import genai\n",
        "\n",
        "# Access the API key from the environment variables set in the previous cell\n",
        "api_key = os.environ.get('Apredendo_python(IA)')\n",
        "\n",
        "# Initialize the client with the API key\n",
        "client = genai.Client(api_key=api_key)"
      ],
      "metadata": {
        "id": "w5v51SZGtyzZ"
      },
      "execution_count": 29,
      "outputs": []
    },
    {
      "cell_type": "code",
      "source": [
        "resposta=client.models.generate_content(model='gemini-2.5-flash',contents='O que é uma API?')\n"
      ],
      "metadata": {
        "id": "FgoydEb7t_Px"
      },
      "execution_count": 30,
      "outputs": []
    },
    {
      "cell_type": "code",
      "source": [
        "print(resposta.text)"
      ],
      "metadata": {
        "colab": {
          "base_uri": "https://localhost:8080/"
        },
        "id": "pyCgHJ8qvu1t",
        "outputId": "9a35f3a1-b64d-4eb0-cb0b-8882af916824"
      },
      "execution_count": 31,
      "outputs": [
        {
          "output_type": "stream",
          "name": "stdout",
          "text": [
            "Uma **API** (pronuncia-se \"êi-pi-ái\") é a sigla para **Interface de Programação de Aplicativos** (do inglês, **Application Programming Interface**).\n",
            "\n",
            "Pense nela como um **garçom em um restaurante** ou um **controle remoto da sua TV**.\n",
            "\n",
            "Vamos desmembrar isso:\n",
            "\n",
            "1.  **Garçom (API) em um Restaurante:**\n",
            "    *   **Você (o aplicativo cliente):** Quer comida (informações ou um serviço específico).\n",
            "    *   **O Menu (documentação da API):** Diz o que você pode pedir (quais funções a API oferece e como chamá-las).\n",
            "    *   **O Garçom (a API):** É o intermediário. Você faz seu pedido (uma \"requisição\" à API) para o garçom. O garçom leva seu pedido para a cozinha (o \"servidor\" ou outro aplicativo que fornece o serviço). A cozinha prepara o prato (processa o pedido) e o garçom traz de volta para você (a \"resposta\" da API).\n",
            "    *   **Importante:** Você não precisa ir até a cozinha, nem sabe como o prato é feito. Você só se comunica com o garçom, que sabe como interagir com a cozinha.\n",
            "\n",
            "2.  **Controle Remoto (API) da TV:**\n",
            "    *   **Você (o aplicativo cliente):** Quer mudar de canal, aumentar o volume (interagir com a TV).\n",
            "    *   **O Controle Remoto (a API):** Tem botões específicos (funções da API) para fazer certas ações na TV. Você aperta um botão (faz uma requisição), e a TV responde (executa a ação).\n",
            "    *   **Importante:** Você não precisa abrir a TV e mexer nos circuitos internos para mudar o canal. O controle remoto é a interface padronizada para interagir com ela.\n",
            "\n",
            "---\n",
            "\n",
            "**Em termos técnicos, uma API é um conjunto de definições e protocolos que permite que diferentes softwares se comuniquem entre si.**\n",
            "\n",
            "Ela define:\n",
            "*   **O que** um software pode pedir (tipos de dados, funcionalidades).\n",
            "*   **Como** fazer esse pedido (formato da requisição, URL, métodos).\n",
            "*   **O que esperar** como resposta (formato dos dados, códigos de erro).\n",
            "\n",
            "**Componentes Chave:**\n",
            "\n",
            "*   **Requisição:** O pedido que um software faz a outro através da API.\n",
            "*   **Resposta:** A informação ou confirmação que o software recebe de volta.\n",
            "*   **Endpoints:** São URLs específicas que representam recursos ou funções que a API oferece (ex: `/users`, `/products/123`).\n",
            "*   **Métodos HTTP:** A forma como a requisição é feita (GET para obter dados, POST para enviar novos dados, PUT para atualizar, DELETE para remover, etc.).\n",
            "*   **Formato dos Dados:** Geralmente JSON (JavaScript Object Notation) ou XML (Extensible Markup Language) para troca de informações.\n",
            "\n",
            "**Por que as APIs são tão importantes?**\n",
            "\n",
            "1.  **Integração:** Permitem que diferentes sistemas e aplicativos conversem e compartilhem dados, mesmo que sejam de empresas diferentes ou escritos em linguagens de programação distintas.\n",
            "2.  **Reutilização:** Desenvolvedores não precisam \"reinventar a roda\". Em vez de criar um sistema de mapas do zero, por exemplo, eles podem usar a API do Google Maps.\n",
            "3.  **Inovação:** Permitem que terceiros construam novos produtos e serviços em cima de plataformas existentes. Pense nos aplicativos que usam dados do Facebook, Twitter, ou até mesmo informações meteorológicas.\n",
            "4.  **Automação:** Facilitam a automação de tarefas e processos, conectando serviços para funcionar de forma conjunta e eficiente.\n",
            "5.  **Modularidade:** Permitem que grandes sistemas sejam construídos a partir de componentes menores e especializados que se comunicam via APIs.\n",
            "\n",
            "**Exemplos Comuns de APIs no Dia a Dia:**\n",
            "\n",
            "*   **Aplicativos de clima:** Pegam dados de temperatura, umidade, etc., de APIs de serviços meteorológicos.\n",
            "*   **Sites de viagens:** Agregam voos e hotéis de diversas companhias e redes hoteleiras usando suas APIs.\n",
            "*   **Botões \"Compartilhar no Facebook/Twitter\":** Usam as APIs dessas redes sociais para postar conteúdo.\n",
            "*   **Pagamentos online:** Quando você compra algo, o site da loja se comunica com o sistema de pagamento (ex: PayPal, Stripe) através de uma API.\n",
            "*   **Aplicativos que usam mapas:** Usam APIs de serviços de mapeamento (Google Maps, OpenStreetMap) para exibir localizações e rotas.\n",
            "\n",
            "Em resumo, a API é a ponte, o tradutor e o mensageiro que permite que o vasto mundo digital funcione como um ecossistema conectado, onde diferentes peças de software podem interagir de forma eficiente e padronizada.\n"
          ]
        }
      ]
    },
    {
      "cell_type": "code",
      "source": [
        "chat=client.chats.create(model='gemini-2.5-flash')"
      ],
      "metadata": {
        "id": "Sq3pmDAp0xkZ"
      },
      "execution_count": 32,
      "outputs": []
    },
    {
      "cell_type": "code",
      "source": [
        "resposta=chat.send_message('O que é uma API?')"
      ],
      "metadata": {
        "id": "hZ8Ydp1T1Hl1"
      },
      "execution_count": 33,
      "outputs": []
    },
    {
      "cell_type": "code",
      "source": [
        "resposta.text"
      ],
      "metadata": {
        "colab": {
          "base_uri": "https://localhost:8080/",
          "height": 123
        },
        "id": "WA75GR3x1XKL",
        "outputId": "c278e801-d8d2-46fa-a68e-e283257f60bd"
      },
      "execution_count": 34,
      "outputs": [
        {
          "output_type": "execute_result",
          "data": {
            "text/plain": [
              "'Uma **API** (pronuncia-se \"êi-pi-ái\") significa **Interface de Programação de Aplicações** (do inglês, *Application Programming Interface*).\\n\\nEm termos simples, uma API é um **conjunto de definições e protocolos que permite que diferentes softwares se comuniquem entre si**. Pense nela como um \"garçom\" que facilita a comunicação entre você (um aplicativo) e a cozinha (outro aplicativo ou sistema).\\n\\nVamos usar a analogia do restaurante para entender melhor:\\n\\n1.  **Você (o \"aplicativo cliente\")** quer comer algo.\\n2.  Você não vai até a cozinha para preparar sua comida ou falar diretamente com o cozinheiro.\\n3.  Você usa o **cardápio (a \"documentação da API\")** para ver o que está disponível e como fazer seu pedido.\\n4.  Você faz seu **pedido (a \"requisição\")** ao **garçom (a \"API\")**.\\n5.  O garçom leva seu pedido para a **cozinha (o \"servidor\" ou \"sistema que possui os dados/funcionalidades\")**.\\n6.  A cozinha prepara seu prato.\\n7.  O garçom traz o **prato pronto (a \"resposta\")** de volta para você.\\n\\n**No mundo da tecnologia:**\\n\\n*   **Você (o \"aplicativo cliente\")** pode ser um app de celular, um site ou outro programa.\\n*   A **API** é o intermediário que recebe sua requisição (ex: \"me dê a previsão do tempo para São Paulo\" ou \"adicione este item ao carrinho de compras\").\\n*   A **Cozinha (o \"servidor\")** é o sistema que contém os dados ou a lógica para executar a ação (ex: o servidor de um serviço de clima ou o sistema de e-commerce).\\n*   O **Cardápio (a \"documentação da API\")** descreve como você deve formatar sua requisição para que a API a entenda (quais informações enviar, em que formato, etc.).\\n*   A **Resposta** é o dado ou resultado que a API retorna (ex: a temperatura atual, ou a confirmação de que o item foi adicionado).\\n\\n**Para que servem as APIs?**\\n\\n1.  **Integração de Sistemas:** Permitem que diferentes sistemas, mesmo construídos em tecnologias distintas, conversem e troquem informações. Ex: um site de viagens que consulta voos de várias companhias aéreas.\\n2.  **Reuso de Funcionalidades:** Desenvolvedores não precisam \"reinventar a roda\". Se uma empresa já tem um sistema robusto para processar pagamentos, ela pode expor uma API para que outras empresas usem essa funcionalidade em seus próprios sites ou apps (ex: PayPal, Stripe).\\n3.  **Abstração e Segurança:** A API esconde a complexidade interna do sistema. Você não precisa saber como o servidor funciona, apenas como interagir com ele. Além disso, a API controla o que é exposto e quem tem acesso.\\n4.  **Inovação:** Permitem que terceiros construam novos serviços e produtos sobre plataformas existentes. Pense em apps que usam a API do Google Maps para exibir rotas personalizadas.\\n\\n**Exemplos comuns de APIs no dia a dia:**\\n\\n*   **Login com Google/Facebook:** Quando um site ou app te oferece para \"Entrar com Google\" ou \"Entrar com Facebook\", ele está usando as APIs dessas plataformas para autenticar sua identidade.\\n*   **Aplicativos de clima:** Eles buscam dados de temperatura, umidade, etc., através de APIs de serviços meteorológicos.\\n*   **Mapas em aplicativos:** Apps de transporte (Uber, 99) ou de entrega utilizam APIs de serviços de mapas (como Google Maps) para exibir localização e rotas.\\n*   **Pagamentos online:** Quando você paga algo em um e-commerce, a loja se conecta à API de um gateway de pagamento (como Pagar.me, Mercado Pago) para processar sua transação de forma segura.\\n\\nEm resumo, as APIs são a espinha dorsal da maioria das interações digitais modernas, permitindo que o vasto ecossistema de softwares funcione de forma integrada e eficiente.'"
            ],
            "application/vnd.google.colaboratory.intrinsic+json": {
              "type": "string"
            }
          },
          "metadata": {},
          "execution_count": 34
        }
      ]
    },
    {
      "cell_type": "code",
      "source": [
        "resposta=chat.send_message('Origem do Nome Gustavo')\n",
        "resposta.text"
      ],
      "metadata": {
        "colab": {
          "base_uri": "https://localhost:8080/",
          "height": 123
        },
        "id": "7_oGtsI61Y8t",
        "outputId": "c435dec9-9ec3-412e-b3ba-d1b65b804571"
      },
      "execution_count": 35,
      "outputs": [
        {
          "output_type": "execute_result",
          "data": {
            "text/plain": [
              "'O nome **Gustavo** tem uma rica e antiga origem **nórdica/germânica**, sendo bastante popular em diversos países, especialmente nos de língua portuguesa e sueca.\\n\\nSua etimologia remonta ao nome nórdico antigo **\"Gautstafr\"** ou **\"Gostaf\"**, que é composto por dois elementos:\\n\\n1.  **Gautr (ou Götar):** Refere-se aos \"Geats\" (Gautas), uma tribo germânica que habitava o sul da Suécia (na região de Götaland). É a mesma tribo mencionada no poema épico \"Beowulf\".\\n2.  **Stafr:** Significa \"bastão\", \"apoio\", \"suporte\" ou \"pilar\".\\n\\nCombinando esses elementos, o significado mais aceito para Gustavo é:\\n\\n*   **\"Aquele que é o bastão/suporte dos Geats\"**\\n*   **\"Pilar dos Geats\"**\\n*   Por extensão, pode ser interpretado como **\"Príncipe dos Geats\"** ou **\"Líder dos Geats\"**.\\n\\n**Outra interpretação (menos comum, mas presente em algumas fontes):**\\n\\nAlguns estudiosos sugerem que \"Gostaf\" também poderia ter uma ligação com \"guð\" (Deus) + \"stafr\" (bastão), significando \"bastão dos deuses\" ou \"aquele que é o suporte divino\". No entanto, a conexão com os \"Geats\" é a mais difundida e historicamente aceita.\\n\\n**Popularidade e História:**\\n\\nO nome Gustavo ganhou proeminência na Suécia com a casa real de Vasa, especialmente com **Gustavo I Vasa**, que foi rei da Suécia no século XVI e é considerado o pai da nação sueca moderna. Muitos outros reis suecos carregaram o nome, contribuindo para sua difusão.\\n\\nDe lá, o nome se espalhou por outras partes da Europa e, posteriormente, para as Américas, mantendo sua aura de força, liderança e tradição. Em países como Brasil e Portugal, é um nome clássico e muito apreciado.'"
            ],
            "application/vnd.google.colaboratory.intrinsic+json": {
              "type": "string"
            }
          },
          "metadata": {},
          "execution_count": 35
        }
      ]
    },
    {
      "cell_type": "code",
      "source": [
        "chat.get_history()"
      ],
      "metadata": {
        "colab": {
          "base_uri": "https://localhost:8080/"
        },
        "id": "X-IEVn2i13W9",
        "outputId": "9e3c9c71-67fd-4323-e3af-f29210437cfc"
      },
      "execution_count": 36,
      "outputs": [
        {
          "output_type": "execute_result",
          "data": {
            "text/plain": [
              "[UserContent(\n",
              "   parts=[\n",
              "     Part(\n",
              "       text='O que é uma API?'\n",
              "     ),\n",
              "   ],\n",
              "   role='user'\n",
              " ),\n",
              " Content(\n",
              "   parts=[\n",
              "     Part(\n",
              "       text=\"\"\"Uma **API** (pronuncia-se \"êi-pi-ái\") significa **Interface de Programação de Aplicações** (do inglês, *Application Programming Interface*).\n",
              " \n",
              " Em termos simples, uma API é um **conjunto de definições e protocolos que permite que diferentes softwares se comuniquem entre si**. Pense nela como um \"garçom\" que facilita a comunicação entre você (um aplicativo) e a cozinha (outro aplicativo ou sistema).\n",
              " \n",
              " Vamos usar a analogia do restaurante para entender melhor:\n",
              " \n",
              " 1.  **Você (o \"aplicativo cliente\")** quer comer algo.\n",
              " 2.  Você não vai até a cozinha para preparar sua comida ou falar diretamente com o cozinheiro.\n",
              " 3.  Você usa o **cardápio (a \"documentação da API\")** para ver o que está disponível e como fazer seu pedido.\n",
              " 4.  Você faz seu **pedido (a \"requisição\")** ao **garçom (a \"API\")**.\n",
              " 5.  O garçom leva seu pedido para a **cozinha (o \"servidor\" ou \"sistema que possui os dados/funcionalidades\")**.\n",
              " 6.  A cozinha prepara seu prato.\n",
              " 7.  O garçom traz o **prato pronto (a \"resposta\")** de volta para você.\n",
              " \n",
              " **No mundo da tecnologia:**\n",
              " \n",
              " *   **Você (o \"aplicativo cliente\")** pode ser um app de celular, um site ou outro programa.\n",
              " *   A **API** é o intermediário que recebe sua requisição (ex: \"me dê a previsão do tempo para São Paulo\" ou \"adicione este item ao carrinho de compras\").\n",
              " *   A **Cozinha (o \"servidor\")** é o sistema que contém os dados ou a lógica para executar a ação (ex: o servidor de um serviço de clima ou o sistema de e-commerce).\n",
              " *   O **Cardápio (a \"documentação da API\")** descreve como você deve formatar sua requisição para que a API a entenda (quais informações enviar, em que formato, etc.).\n",
              " *   A **Resposta** é o dado ou resultado que a API retorna (ex: a temperatura atual, ou a confirmação de que o item foi adicionado).\n",
              " \n",
              " **Para que servem as APIs?**\n",
              " \n",
              " 1.  **Integração de Sistemas:** Permitem que diferentes sistemas, mesmo construídos em tecnologias distintas, conversem e troquem informações. Ex: um site de viagens que consulta voos de várias companhias aéreas.\n",
              " 2.  **Reuso de Funcionalidades:** Desenvolvedores não precisam \"reinventar a roda\". Se uma empresa já tem um sistema robusto para processar pagamentos, ela pode expor uma API para que outras empresas usem essa funcionalidade em seus próprios sites ou apps (ex: PayPal, Stripe).\n",
              " 3.  **Abstração e Segurança:** A API esconde a complexidade interna do sistema. Você não precisa saber como o servidor funciona, apenas como interagir com ele. Além disso, a API controla o que é exposto e quem tem acesso.\n",
              " 4.  **Inovação:** Permitem que terceiros construam novos serviços e produtos sobre plataformas existentes. Pense em apps que usam a API do Google Maps para exibir rotas personalizadas.\n",
              " \n",
              " **Exemplos comuns de APIs no dia a dia:**\n",
              " \n",
              " *   **Login com Google/Facebook:** Quando um site ou app te oferece para \"Entrar com Google\" ou \"Entrar com Facebook\", ele está usando as APIs dessas plataformas para autenticar sua identidade.\n",
              " *   **Aplicativos de clima:** Eles buscam dados de temperatura, umidade, etc., através de APIs de serviços meteorológicos.\n",
              " *   **Mapas em aplicativos:** Apps de transporte (Uber, 99) ou de entrega utilizam APIs de serviços de mapas (como Google Maps) para exibir localização e rotas.\n",
              " *   **Pagamentos online:** Quando você paga algo em um e-commerce, a loja se conecta à API de um gateway de pagamento (como Pagar.me, Mercado Pago) para processar sua transação de forma segura.\n",
              " \n",
              " Em resumo, as APIs são a espinha dorsal da maioria das interações digitais modernas, permitindo que o vasto ecossistema de softwares funcione de forma integrada e eficiente.\"\"\"\n",
              "     ),\n",
              "   ],\n",
              "   role='model'\n",
              " ),\n",
              " UserContent(\n",
              "   parts=[\n",
              "     Part(\n",
              "       text='Origem do Nome Gustavo'\n",
              "     ),\n",
              "   ],\n",
              "   role='user'\n",
              " ),\n",
              " Content(\n",
              "   parts=[\n",
              "     Part(\n",
              "       text=\"\"\"O nome **Gustavo** tem uma rica e antiga origem **nórdica/germânica**, sendo bastante popular em diversos países, especialmente nos de língua portuguesa e sueca.\n",
              " \n",
              " Sua etimologia remonta ao nome nórdico antigo **\"Gautstafr\"** ou **\"Gostaf\"**, que é composto por dois elementos:\n",
              " \n",
              " 1.  **Gautr (ou Götar):** Refere-se aos \"Geats\" (Gautas), uma tribo germânica que habitava o sul da Suécia (na região de Götaland). É a mesma tribo mencionada no poema épico \"Beowulf\".\n",
              " 2.  **Stafr:** Significa \"bastão\", \"apoio\", \"suporte\" ou \"pilar\".\n",
              " \n",
              " Combinando esses elementos, o significado mais aceito para Gustavo é:\n",
              " \n",
              " *   **\"Aquele que é o bastão/suporte dos Geats\"**\n",
              " *   **\"Pilar dos Geats\"**\n",
              " *   Por extensão, pode ser interpretado como **\"Príncipe dos Geats\"** ou **\"Líder dos Geats\"**.\n",
              " \n",
              " **Outra interpretação (menos comum, mas presente em algumas fontes):**\n",
              " \n",
              " Alguns estudiosos sugerem que \"Gostaf\" também poderia ter uma ligação com \"guð\" (Deus) + \"stafr\" (bastão), significando \"bastão dos deuses\" ou \"aquele que é o suporte divino\". No entanto, a conexão com os \"Geats\" é a mais difundida e historicamente aceita.\n",
              " \n",
              " **Popularidade e História:**\n",
              " \n",
              " O nome Gustavo ganhou proeminência na Suécia com a casa real de Vasa, especialmente com **Gustavo I Vasa**, que foi rei da Suécia no século XVI e é considerado o pai da nação sueca moderna. Muitos outros reis suecos carregaram o nome, contribuindo para sua difusão.\n",
              " \n",
              " De lá, o nome se espalhou por outras partes da Europa e, posteriormente, para as Américas, mantendo sua aura de força, liderança e tradição. Em países como Brasil e Portugal, é um nome clássico e muito apreciado.\"\"\"\n",
              "     ),\n",
              "   ],\n",
              "   role='model'\n",
              " )]"
            ]
          },
          "metadata": {},
          "execution_count": 36
        }
      ]
    },
    {
      "cell_type": "code",
      "source": [
        "prompt = input('Digite seu prompt: ')\n",
        "\n",
        "while prompt != 'fim':\n",
        "  resposta = chat.send_message(prompt)\n",
        "  print(resposta.text)\n",
        "  prompt = input('Digite seu prompt: ')"
      ],
      "metadata": {
        "id": "bZDaLVto151U",
        "colab": {
          "base_uri": "https://localhost:8080/",
          "height": 356
        },
        "outputId": "4779bd34-26b2-40fc-9708-561d12cc6718"
      },
      "execution_count": 37,
      "outputs": [
        {
          "output_type": "error",
          "ename": "KeyboardInterrupt",
          "evalue": "Interrupted by user",
          "traceback": [
            "\u001b[0;31m---------------------------------------------------------------------------\u001b[0m",
            "\u001b[0;31mKeyboardInterrupt\u001b[0m                         Traceback (most recent call last)",
            "\u001b[0;32m/tmp/ipython-input-878065753.py\u001b[0m in \u001b[0;36m<cell line: 0>\u001b[0;34m()\u001b[0m\n\u001b[0;32m----> 1\u001b[0;31m \u001b[0mprompt\u001b[0m \u001b[0;34m=\u001b[0m \u001b[0minput\u001b[0m\u001b[0;34m(\u001b[0m\u001b[0;34m'Digite seu prompt: '\u001b[0m\u001b[0;34m)\u001b[0m\u001b[0;34m\u001b[0m\u001b[0;34m\u001b[0m\u001b[0m\n\u001b[0m\u001b[1;32m      2\u001b[0m \u001b[0;34m\u001b[0m\u001b[0m\n\u001b[1;32m      3\u001b[0m \u001b[0;32mwhile\u001b[0m \u001b[0mprompt\u001b[0m \u001b[0;34m!=\u001b[0m \u001b[0;34m'fim'\u001b[0m\u001b[0;34m:\u001b[0m\u001b[0;34m\u001b[0m\u001b[0;34m\u001b[0m\u001b[0m\n\u001b[1;32m      4\u001b[0m   \u001b[0mresposta\u001b[0m \u001b[0;34m=\u001b[0m \u001b[0mchat\u001b[0m\u001b[0;34m.\u001b[0m\u001b[0msend_message\u001b[0m\u001b[0;34m(\u001b[0m\u001b[0mprompt\u001b[0m\u001b[0;34m)\u001b[0m\u001b[0;34m\u001b[0m\u001b[0;34m\u001b[0m\u001b[0m\n\u001b[1;32m      5\u001b[0m   \u001b[0mprint\u001b[0m\u001b[0;34m(\u001b[0m\u001b[0mresposta\u001b[0m\u001b[0;34m.\u001b[0m\u001b[0mtext\u001b[0m\u001b[0;34m)\u001b[0m\u001b[0;34m\u001b[0m\u001b[0;34m\u001b[0m\u001b[0m\n",
            "\u001b[0;32m/usr/local/lib/python3.12/dist-packages/ipykernel/kernelbase.py\u001b[0m in \u001b[0;36mraw_input\u001b[0;34m(self, prompt)\u001b[0m\n\u001b[1;32m   1175\u001b[0m                 \u001b[0;34m\"raw_input was called, but this frontend does not support input requests.\"\u001b[0m\u001b[0;34m\u001b[0m\u001b[0;34m\u001b[0m\u001b[0m\n\u001b[1;32m   1176\u001b[0m             )\n\u001b[0;32m-> 1177\u001b[0;31m         return self._input_request(\n\u001b[0m\u001b[1;32m   1178\u001b[0m             \u001b[0mstr\u001b[0m\u001b[0;34m(\u001b[0m\u001b[0mprompt\u001b[0m\u001b[0;34m)\u001b[0m\u001b[0;34m,\u001b[0m\u001b[0;34m\u001b[0m\u001b[0;34m\u001b[0m\u001b[0m\n\u001b[1;32m   1179\u001b[0m             \u001b[0mself\u001b[0m\u001b[0;34m.\u001b[0m\u001b[0m_parent_ident\u001b[0m\u001b[0;34m[\u001b[0m\u001b[0;34m\"shell\"\u001b[0m\u001b[0;34m]\u001b[0m\u001b[0;34m,\u001b[0m\u001b[0;34m\u001b[0m\u001b[0;34m\u001b[0m\u001b[0m\n",
            "\u001b[0;32m/usr/local/lib/python3.12/dist-packages/ipykernel/kernelbase.py\u001b[0m in \u001b[0;36m_input_request\u001b[0;34m(self, prompt, ident, parent, password)\u001b[0m\n\u001b[1;32m   1217\u001b[0m             \u001b[0;32mexcept\u001b[0m \u001b[0mKeyboardInterrupt\u001b[0m\u001b[0;34m:\u001b[0m\u001b[0;34m\u001b[0m\u001b[0;34m\u001b[0m\u001b[0m\n\u001b[1;32m   1218\u001b[0m                 \u001b[0;31m# re-raise KeyboardInterrupt, to truncate traceback\u001b[0m\u001b[0;34m\u001b[0m\u001b[0;34m\u001b[0m\u001b[0m\n\u001b[0;32m-> 1219\u001b[0;31m                 \u001b[0;32mraise\u001b[0m \u001b[0mKeyboardInterrupt\u001b[0m\u001b[0;34m(\u001b[0m\u001b[0;34m\"Interrupted by user\"\u001b[0m\u001b[0;34m)\u001b[0m \u001b[0;32mfrom\u001b[0m \u001b[0;32mNone\u001b[0m\u001b[0;34m\u001b[0m\u001b[0;34m\u001b[0m\u001b[0m\n\u001b[0m\u001b[1;32m   1220\u001b[0m             \u001b[0;32mexcept\u001b[0m \u001b[0mException\u001b[0m\u001b[0;34m:\u001b[0m\u001b[0;34m\u001b[0m\u001b[0;34m\u001b[0m\u001b[0m\n\u001b[1;32m   1221\u001b[0m                 \u001b[0mself\u001b[0m\u001b[0;34m.\u001b[0m\u001b[0mlog\u001b[0m\u001b[0;34m.\u001b[0m\u001b[0mwarning\u001b[0m\u001b[0;34m(\u001b[0m\u001b[0;34m\"Invalid Message:\"\u001b[0m\u001b[0;34m,\u001b[0m \u001b[0mexc_info\u001b[0m\u001b[0;34m=\u001b[0m\u001b[0;32mTrue\u001b[0m\u001b[0;34m)\u001b[0m\u001b[0;34m\u001b[0m\u001b[0;34m\u001b[0m\u001b[0m\n",
            "\u001b[0;31mKeyboardInterrupt\u001b[0m: Interrupted by user"
          ]
        }
      ]
    },
    {
      "cell_type": "code",
      "source": [],
      "metadata": {
        "id": "TOd0SMAI2nw8"
      },
      "execution_count": null,
      "outputs": []
    }
  ]
}